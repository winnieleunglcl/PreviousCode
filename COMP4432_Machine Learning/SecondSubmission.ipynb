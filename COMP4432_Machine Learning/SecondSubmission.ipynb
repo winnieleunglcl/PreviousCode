{
 "cells": [
  {
   "cell_type": "markdown",
   "id": "88aca583",
   "metadata": {},
   "source": [
    "In this submission, intermediate techniques will be adopted to improve the result."
   ]
  },
  {
   "cell_type": "code",
   "execution_count": 1,
   "id": "ed22e017",
   "metadata": {},
   "outputs": [],
   "source": [
    "import numpy as np\n",
    "import pandas as pd\n",
    "\n",
    "train_dataset = pd.read_csv(\"train.csv\")\n",
    "test_dataset = pd.read_csv(\"test.csv\")"
   ]
  },
  {
   "cell_type": "markdown",
   "id": "79162a60",
   "metadata": {},
   "source": [
    "### Data handling"
   ]
  },
  {
   "cell_type": "markdown",
   "id": "52093748",
   "metadata": {},
   "source": [
    "In the last submission, I have checked there is no null value so I don't repeat the steps here."
   ]
  },
  {
   "cell_type": "code",
   "execution_count": 2,
   "id": "b7e2950e",
   "metadata": {},
   "outputs": [],
   "source": [
    "train_dataset = train_dataset.drop([\"id\"], axis = 1)\n",
    "target = train_dataset[\"target\"]"
   ]
  },
  {
   "cell_type": "markdown",
   "id": "d1f144b7",
   "metadata": {},
   "source": [
    "Check if the dataset is imbalanced:"
   ]
  },
  {
   "cell_type": "code",
   "execution_count": 3,
   "id": "aad75008",
   "metadata": {},
   "outputs": [
    {
     "data": {
      "text/plain": [
       "Index(['target'], dtype='object')"
      ]
     },
     "execution_count": 3,
     "metadata": {},
     "output_type": "execute_result"
    }
   ],
   "source": [
    "train_dataset.columns[abs(train_dataset.skew(axis=0))>0.5]"
   ]
  },
  {
   "cell_type": "markdown",
   "id": "6d74f6bf",
   "metadata": {},
   "source": [
    "Skewness is to measure the asymmetry of the probability distribution of a real-valued random variable about its mean. As observed from the result, target is a column with skewness. We could further plot the data in target column to see the imbalance."
   ]
  },
  {
   "cell_type": "code",
   "execution_count": 4,
   "id": "34b466a2",
   "metadata": {},
   "outputs": [],
   "source": [
    "import matplotlib.pyplot as plt\n",
    "\n",
    "target_classes = ['0','1']\n",
    "number_of_1 = target.sum()\n",
    "number_of_0 = len(target) - number_of_1\n",
    "target_counts = [number_of_0, number_of_1]"
   ]
  },
  {
   "cell_type": "code",
   "execution_count": 5,
   "id": "d97a53a4",
   "metadata": {},
   "outputs": [
    {
     "data": {
      "text/plain": [
       "([<matplotlib.patches.Wedge at 0x226ac6d6b80>,\n",
       "  <matplotlib.patches.Wedge at 0x226acd97250>],\n",
       " [Text(0.46835717599151966, 0.995309778760989, '0'),\n",
       "  Text(-0.4683571759915193, -0.9953097787609891, '1')],\n",
       " [Text(0.25546755054082887, 0.5428962429605394, '36.0%'),\n",
       "  Text(-0.2554675505408287, -0.5428962429605395, '64.0%')])"
      ]
     },
     "execution_count": 5,
     "metadata": {},
     "output_type": "execute_result"
    },
    {
     "data": {
      "image/png": "[encoded data removed]",
      "text/plain": [
       "<Figure size 640x480 with 1 Axes>"
      ]
     },
     "metadata": {},
     "output_type": "display_data"
    }
   ],
   "source": [
    "fig, ax = plt.subplots()\n",
    "ax.pie(target_counts, labels=target_classes, autopct='%1.1f%%')"
   ]
  },
  {
   "cell_type": "markdown",
   "id": "84050d30",
   "metadata": {},
   "source": [
    "As shown in the pie chart, \"1\" counts for 64.0% in target class of the training dataset. The result seems imbalanced."
   ]
  },
  {
   "cell_type": "code",
   "execution_count": 6,
   "id": "67438118",
   "metadata": {},
   "outputs": [
    {
     "name": "stdout",
     "output_type": "stream",
     "text": [
      "(187, 300) (63, 300) (187,) (63,)\n"
     ]
    }
   ],
   "source": [
    "from sklearn.model_selection import train_test_split\n",
    "\n",
    "x_train, x_test, y_train, y_test = train_test_split(train_dataset.drop('target',axis=1), target, test_size = 0.25, random_state = 42, shuffle=True, stratify=target)\n",
    "print(x_train.shape, x_test.shape, y_train.shape, y_test.shape)"
   ]
  },
  {
   "cell_type": "markdown",
   "id": "e218a0d4",
   "metadata": {},
   "source": [
    "As we found that target column is a biased data, stratify could be used to overcome train_test_split’s biased random sampling problem with a more even distribution, to improve accuracy of the final result."
   ]
  },
  {
   "cell_type": "code",
   "execution_count": 7,
   "id": "03810fa1",
   "metadata": {},
   "outputs": [
    {
     "name": "stdout",
     "output_type": "stream",
     "text": [
      "1.0    120\n",
      "0.0     67\n",
      "Name: target, dtype: int64\n",
      "1.0    40\n",
      "0.0    23\n",
      "Name: target, dtype: int64\n"
     ]
    }
   ],
   "source": [
    "print(y_train.value_counts())\n",
    "print(y_test.value_counts())"
   ]
  },
  {
   "cell_type": "markdown",
   "id": "624fd1e4",
   "metadata": {},
   "source": [
    "### Features selection"
   ]
  },
  {
   "cell_type": "markdown",
   "id": "e93bb63d",
   "metadata": {},
   "source": [
    "In this session, mutual_info_classif from sklearn package will be used to measure the dependency of features with the target, in order to select the features that are more correlated."
   ]
  },
  {
   "cell_type": "code",
   "execution_count": 8,
   "id": "4b002a95",
   "metadata": {},
   "outputs": [],
   "source": [
    "from sklearn.feature_selection import mutual_info_classif\n",
    "\n",
    "mic = mutual_info_classif(x_train, y_train, random_state=42)"
   ]
  },
  {
   "cell_type": "code",
   "execution_count": 9,
   "id": "3b312d2c",
   "metadata": {},
   "outputs": [
    {
     "name": "stdout",
     "output_type": "stream",
     "text": [
      "number of selected columns 93\n",
      "number of selected columns Index(['2', '4', '9', '11', '13', '14', '17', '18', '24', '28', '31', '33',\n",
      "       '36', '39', '44', '45', '48', '53', '58', '61', '67', '68', '73', '76',\n",
      "       '80', '81', '82', '87', '88', '91', '92', '96', '98', '100', '101',\n",
      "       '106', '108', '116', '117', '119', '122', '126', '130', '131', '133',\n",
      "       '137', '138', '139', '140', '145', '146', '152', '162', '165', '169',\n",
      "       '170', '171', '174', '176', '187', '189', '190', '193', '199', '201',\n",
      "       '204', '212', '217', '219', '220', '225', '229', '230', '231', '235',\n",
      "       '236', '237', '245', '247', '248', '254', '256', '267', '276', '279',\n",
      "       '280', '282', '283', '287', '289', '290', '298', '299'],\n",
      "      dtype='object')\n"
     ]
    }
   ],
   "source": [
    "selected_features = np.array(mic > 0.02)\n",
    "print('number of selected columns',selected_features.sum())\n",
    "print('number of selected columns',x_train.columns[selected_features])"
   ]
  },
  {
   "cell_type": "markdown",
   "id": "9e88632d",
   "metadata": {},
   "source": [
    "Drop those features with low dependency from dataset:"
   ]
  },
  {
   "cell_type": "code",
   "execution_count": 10,
   "id": "5b415cf8",
   "metadata": {},
   "outputs": [],
   "source": [
    "dropped_features = x_train.columns[~selected_features]\n",
    "x_train.drop(dropped_features,axis= 1,inplace= True)\n",
    "x_test.drop(dropped_features,axis= 1 ,inplace= True)\n",
    "train_dataset.drop(dropped_features,axis= 1 ,inplace= True)\n",
    "test_dataset.drop(dropped_features,axis= 1 ,inplace= True)"
   ]
  },
  {
   "cell_type": "markdown",
   "id": "2b3f1df5",
   "metadata": {},
   "source": [
    "### Model training"
   ]
  },
  {
   "cell_type": "markdown",
   "id": "9ff226cd",
   "metadata": {},
   "source": [
    "As SVM is a popular supervised machine learning classification algorithm that could achieve great result, I tried to use this model. Performances of Gaussian Kernel and Sigmoid Kernel will be compared to find a better model for this dataset. As the dataset was found to be imbalanced in the previous session, I put a class_weight parameter here. Gamma values were adjusted according to the performance and to avoid overfitting."
   ]
  },
  {
   "cell_type": "code",
   "execution_count": 11,
   "id": "079689da",
   "metadata": {},
   "outputs": [
    {
     "data": {
      "text/html": [
       "<style>#sk-container-id-1 {color: black;background-color: white;}#sk-container-id-1 pre{padding: 0;}#sk-container-id-1 div.sk-toggleable {background-color: white;}#sk-container-id-1 label.sk-toggleable__label {cursor: pointer;display: block;width: 100%;margin-bottom: 0;padding: 0.3em;box-sizing: border-box;text-align: center;}#sk-container-id-1 label.sk-toggleable__label-arrow:before {content: \"▸\";float: left;margin-right: 0.25em;color: #696969;}#sk-container-id-1 label.sk-toggleable__label-arrow:hover:before {color: black;}#sk-container-id-1 div.sk-estimator:hover label.sk-toggleable__label-arrow:before {color: black;}#sk-container-id-1 div.sk-toggleable__content {max-height: 0;max-width: 0;overflow: hidden;text-align: left;background-color: #f0f8ff;}#sk-container-id-1 div.sk-toggleable__content pre {margin: 0.2em;color: black;border-radius: 0.25em;background-color: #f0f8ff;}#sk-container-id-1 input.sk-toggleable__control:checked~div.sk-toggleable__content {max-height: 200px;max-width: 100%;overflow: auto;}#sk-container-id-1 input.sk-toggleable__control:checked~label.sk-toggleable__label-arrow:before {content: \"▾\";}#sk-container-id-1 div.sk-estimator input.sk-toggleable__control:checked~label.sk-toggleable__label {background-color: #d4ebff;}#sk-container-id-1 div.sk-label input.sk-toggleable__control:checked~label.sk-toggleable__label {background-color: #d4ebff;}#sk-container-id-1 input.sk-hidden--visually {border: 0;clip: rect(1px 1px 1px 1px);clip: rect(1px, 1px, 1px, 1px);height: 1px;margin: -1px;overflow: hidden;padding: 0;position: absolute;width: 1px;}#sk-container-id-1 div.sk-estimator {font-family: monospace;background-color: #f0f8ff;border: 1px dotted black;border-radius: 0.25em;box-sizing: border-box;margin-bottom: 0.5em;}#sk-container-id-1 div.sk-estimator:hover {background-color: #d4ebff;}#sk-container-id-1 div.sk-parallel-item::after {content: \"\";width: 100%;border-bottom: 1px solid gray;flex-grow: 1;}#sk-container-id-1 div.sk-label:hover label.sk-toggleable__label {background-color: #d4ebff;}#sk-container-id-1 div.sk-serial::before {content: \"\";position: absolute;border-left: 1px solid gray;box-sizing: border-box;top: 0;bottom: 0;left: 50%;z-index: 0;}#sk-container-id-1 div.sk-serial {display: flex;flex-direction: column;align-items: center;background-color: white;padding-right: 0.2em;padding-left: 0.2em;position: relative;}#sk-container-id-1 div.sk-item {position: relative;z-index: 1;}#sk-container-id-1 div.sk-parallel {display: flex;align-items: stretch;justify-content: center;background-color: white;position: relative;}#sk-container-id-1 div.sk-item::before, #sk-container-id-1 div.sk-parallel-item::before {content: \"\";position: absolute;border-left: 1px solid gray;box-sizing: border-box;top: 0;bottom: 0;left: 50%;z-index: -1;}#sk-container-id-1 div.sk-parallel-item {display: flex;flex-direction: column;z-index: 1;position: relative;background-color: white;}#sk-container-id-1 div.sk-parallel-item:first-child::after {align-self: flex-end;width: 50%;}#sk-container-id-1 div.sk-parallel-item:last-child::after {align-self: flex-start;width: 50%;}#sk-container-id-1 div.sk-parallel-item:only-child::after {width: 0;}#sk-container-id-1 div.sk-dashed-wrapped {border: 1px dashed gray;margin: 0 0.4em 0.5em 0.4em;box-sizing: border-box;padding-bottom: 0.4em;background-color: white;}#sk-container-id-1 div.sk-label label {font-family: monospace;font-weight: bold;display: inline-block;line-height: 1.2em;}#sk-container-id-1 div.sk-label-container {text-align: center;}#sk-container-id-1 div.sk-container {/* jupyter's `normalize.less` sets `[hidden] { display: none; }` but bootstrap.min.css set `[hidden] { display: none !important; }` so we also need the `!important` here to be able to override the default hidden behavior on the sphinx rendered scikit-learn.org. See: https://github.com/scikit-learn/scikit-learn/issues/21755 */display: inline-block !important;position: relative;}#sk-container-id-1 div.sk-text-repr-fallback {display: none;}</style><div id=\"sk-container-id-1\" class=\"sk-top-container\"><div class=\"sk-text-repr-fallback\"><pre>SVC(class_weight={0: 1.8, 1: 1.0}, gamma=0.0008, random_state=42)</pre><b>In a Jupyter environment, please rerun this cell to show the HTML representation or trust the notebook. <br />On GitHub, the HTML representation is unable to render, please try loading this page with nbviewer.org.</b></div><div class=\"sk-container\" hidden><div class=\"sk-item\"><div class=\"sk-estimator sk-toggleable\"><input class=\"sk-toggleable__control sk-hidden--visually\" id=\"sk-estimator-id-1\" type=\"checkbox\" checked><label for=\"sk-estimator-id-1\" class=\"sk-toggleable__label sk-toggleable__label-arrow\">SVC</label><div class=\"sk-toggleable__content\"><pre>SVC(class_weight={0: 1.8, 1: 1.0}, gamma=0.0008, random_state=42)</pre></div></div></div></div></div>"
      ],
      "text/plain": [
       "SVC(class_weight={0: 1.8, 1: 1.0}, gamma=0.0008, random_state=42)"
      ]
     },
     "execution_count": 11,
     "metadata": {},
     "output_type": "execute_result"
    }
   ],
   "source": [
    "from sklearn.svm import SVC\n",
    "\n",
    "rbf_svclassifier = SVC(kernel='rbf', class_weight={0: 1.8, 1: 1.0}, random_state=42, gamma= 0.0008)\n",
    "rbf_svclassifier.fit(x_train, y_train)"
   ]
  },
  {
   "cell_type": "code",
   "execution_count": 12,
   "id": "042af7c4",
   "metadata": {},
   "outputs": [],
   "source": [
    "rbf_y_pred = rbf_svclassifier.predict(x_test)"
   ]
  },
  {
   "cell_type": "code",
   "execution_count": 13,
   "id": "ceca9dff",
   "metadata": {},
   "outputs": [
    {
     "name": "stdout",
     "output_type": "stream",
     "text": [
      "Accuracy: 0.746031746031746\n"
     ]
    }
   ],
   "source": [
    "from sklearn.metrics import accuracy_score\n",
    "\n",
    "print(\"Accuracy:\",accuracy_score(y_test, rbf_y_pred))"
   ]
  },
  {
   "cell_type": "code",
   "execution_count": 14,
   "id": "e108b553",
   "metadata": {},
   "outputs": [
    {
     "data": {
      "text/html": [
       "<style>#sk-container-id-2 {color: black;background-color: white;}#sk-container-id-2 pre{padding: 0;}#sk-container-id-2 div.sk-toggleable {background-color: white;}#sk-container-id-2 label.sk-toggleable__label {cursor: pointer;display: block;width: 100%;margin-bottom: 0;padding: 0.3em;box-sizing: border-box;text-align: center;}#sk-container-id-2 label.sk-toggleable__label-arrow:before {content: \"▸\";float: left;margin-right: 0.25em;color: #696969;}#sk-container-id-2 label.sk-toggleable__label-arrow:hover:before {color: black;}#sk-container-id-2 div.sk-estimator:hover label.sk-toggleable__label-arrow:before {color: black;}#sk-container-id-2 div.sk-toggleable__content {max-height: 0;max-width: 0;overflow: hidden;text-align: left;background-color: #f0f8ff;}#sk-container-id-2 div.sk-toggleable__content pre {margin: 0.2em;color: black;border-radius: 0.25em;background-color: #f0f8ff;}#sk-container-id-2 input.sk-toggleable__control:checked~div.sk-toggleable__content {max-height: 200px;max-width: 100%;overflow: auto;}#sk-container-id-2 input.sk-toggleable__control:checked~label.sk-toggleable__label-arrow:before {content: \"▾\";}#sk-container-id-2 div.sk-estimator input.sk-toggleable__control:checked~label.sk-toggleable__label {background-color: #d4ebff;}#sk-container-id-2 div.sk-label input.sk-toggleable__control:checked~label.sk-toggleable__label {background-color: #d4ebff;}#sk-container-id-2 input.sk-hidden--visually {border: 0;clip: rect(1px 1px 1px 1px);clip: rect(1px, 1px, 1px, 1px);height: 1px;margin: -1px;overflow: hidden;padding: 0;position: absolute;width: 1px;}#sk-container-id-2 div.sk-estimator {font-family: monospace;background-color: #f0f8ff;border: 1px dotted black;border-radius: 0.25em;box-sizing: border-box;margin-bottom: 0.5em;}#sk-container-id-2 div.sk-estimator:hover {background-color: #d4ebff;}#sk-container-id-2 div.sk-parallel-item::after {content: \"\";width: 100%;border-bottom: 1px solid gray;flex-grow: 1;}#sk-container-id-2 div.sk-label:hover label.sk-toggleable__label {background-color: #d4ebff;}#sk-container-id-2 div.sk-serial::before {content: \"\";position: absolute;border-left: 1px solid gray;box-sizing: border-box;top: 0;bottom: 0;left: 50%;z-index: 0;}#sk-container-id-2 div.sk-serial {display: flex;flex-direction: column;align-items: center;background-color: white;padding-right: 0.2em;padding-left: 0.2em;position: relative;}#sk-container-id-2 div.sk-item {position: relative;z-index: 1;}#sk-container-id-2 div.sk-parallel {display: flex;align-items: stretch;justify-content: center;background-color: white;position: relative;}#sk-container-id-2 div.sk-item::before, #sk-container-id-2 div.sk-parallel-item::before {content: \"\";position: absolute;border-left: 1px solid gray;box-sizing: border-box;top: 0;bottom: 0;left: 50%;z-index: -1;}#sk-container-id-2 div.sk-parallel-item {display: flex;flex-direction: column;z-index: 1;position: relative;background-color: white;}#sk-container-id-2 div.sk-parallel-item:first-child::after {align-self: flex-end;width: 50%;}#sk-container-id-2 div.sk-parallel-item:last-child::after {align-self: flex-start;width: 50%;}#sk-container-id-2 div.sk-parallel-item:only-child::after {width: 0;}#sk-container-id-2 div.sk-dashed-wrapped {border: 1px dashed gray;margin: 0 0.4em 0.5em 0.4em;box-sizing: border-box;padding-bottom: 0.4em;background-color: white;}#sk-container-id-2 div.sk-label label {font-family: monospace;font-weight: bold;display: inline-block;line-height: 1.2em;}#sk-container-id-2 div.sk-label-container {text-align: center;}#sk-container-id-2 div.sk-container {/* jupyter's `normalize.less` sets `[hidden] { display: none; }` but bootstrap.min.css set `[hidden] { display: none !important; }` so we also need the `!important` here to be able to override the default hidden behavior on the sphinx rendered scikit-learn.org. See: https://github.com/scikit-learn/scikit-learn/issues/21755 */display: inline-block !important;position: relative;}#sk-container-id-2 div.sk-text-repr-fallback {display: none;}</style><div id=\"sk-container-id-2\" class=\"sk-top-container\"><div class=\"sk-text-repr-fallback\"><pre>SVC(class_weight={0: 1.8, 1: 1.0}, gamma=0.01, kernel=&#x27;sigmoid&#x27;,\n",
       "    random_state=42)</pre><b>In a Jupyter environment, please rerun this cell to show the HTML representation or trust the notebook. <br />On GitHub, the HTML representation is unable to render, please try loading this page with nbviewer.org.</b></div><div class=\"sk-container\" hidden><div class=\"sk-item\"><div class=\"sk-estimator sk-toggleable\"><input class=\"sk-toggleable__control sk-hidden--visually\" id=\"sk-estimator-id-2\" type=\"checkbox\" checked><label for=\"sk-estimator-id-2\" class=\"sk-toggleable__label sk-toggleable__label-arrow\">SVC</label><div class=\"sk-toggleable__content\"><pre>SVC(class_weight={0: 1.8, 1: 1.0}, gamma=0.01, kernel=&#x27;sigmoid&#x27;,\n",
       "    random_state=42)</pre></div></div></div></div></div>"
      ],
      "text/plain": [
       "SVC(class_weight={0: 1.8, 1: 1.0}, gamma=0.01, kernel='sigmoid',\n",
       "    random_state=42)"
      ]
     },
     "execution_count": 14,
     "metadata": {},
     "output_type": "execute_result"
    }
   ],
   "source": [
    "sigmoid_svclassifier = SVC(kernel='sigmoid', class_weight={0: 1.8, 1: 1.0}, random_state=42, gamma= 0.01)\n",
    "sigmoid_svclassifier.fit(x_train, y_train)"
   ]
  },
  {
   "cell_type": "code",
   "execution_count": 15,
   "id": "8c0d3f7d",
   "metadata": {},
   "outputs": [],
   "source": [
    "sigmoid_y_pred = sigmoid_svclassifier.predict(x_test)"
   ]
  },
  {
   "cell_type": "code",
   "execution_count": 16,
   "id": "cd5b3d1d",
   "metadata": {},
   "outputs": [
    {
     "name": "stdout",
     "output_type": "stream",
     "text": [
      "Accuracy: 0.7142857142857143\n"
     ]
    }
   ],
   "source": [
    "print(\"Accuracy:\",accuracy_score(y_test, sigmoid_y_pred))"
   ]
  },
  {
   "cell_type": "markdown",
   "id": "80c35bb9",
   "metadata": {},
   "source": [
    "Gaussian Kernel is better than Sigmoid Kernel in this case."
   ]
  },
  {
   "cell_type": "markdown",
   "id": "41b7d2c6",
   "metadata": {},
   "source": [
    "### Export result"
   ]
  },
  {
   "cell_type": "code",
   "execution_count": 17,
   "id": "405a2dc7",
   "metadata": {},
   "outputs": [],
   "source": [
    "test_data_id = test_dataset[\"id\"]\n",
    "test_dataset = test_dataset.drop([\"id\"], axis = 1)"
   ]
  },
  {
   "cell_type": "code",
   "execution_count": 18,
   "id": "c777b4ca",
   "metadata": {},
   "outputs": [],
   "source": [
    "y_pred = rbf_svclassifier.predict(test_dataset)\n",
    "submission= pd.DataFrame({'id':np.asarray(test_data_id), 'target':y_pred})\n",
    "submission.to_csv(\"submission.csv\", index=False)"
   ]
  }
 ],
 "metadata": {
  "kernelspec": {
   "display_name": "Python 3 (ipykernel)",
   "language": "python",
   "name": "python3"
  },
  "language_info": {
   "codemirror_mode": {
    "name": "ipython",
    "version": 3
   },
   "file_extension": ".py",
   "mimetype": "text/x-python",
   "name": "python",
   "nbconvert_exporter": "python",
   "pygments_lexer": "ipython3",
   "version": "3.9.13"
  }
 },
 "nbformat": 4,
 "nbformat_minor": 5
}
